{
 "cells": [
  {
   "cell_type": "markdown",
   "metadata": {},
   "source": [
    "# NLP Final Project: Amazon Reviews\n",
    "By Gerald Lee (GL2668)\n",
    "\n",
    "## Table of Contents\n",
    "- [Load Dataset](#Load-Data)\n",
    "- [Data Description](#Data-Description)\n",
    "- [Text Pre-Processing](#Text-Pre-Processing)\n",
    "- [Sentiment Analysis](#Sentiment-Analysis)\n",
    "- [Predict Product Recommendation](#Predict-Product-Recommendation)\n",
    "- [Topic Modelling](#Topic-Modelling)\n"
   ]
  },
  {
   "cell_type": "markdown",
   "metadata": {},
   "source": [
    "***\n",
    "\n",
    "### Load Data"
   ]
  },
  {
   "cell_type": "code",
   "execution_count": 1,
   "metadata": {},
   "outputs": [
    {
     "name": "stdout",
     "output_type": "stream",
     "text": [
      "/Users/geraldlee/Documents/Natural Language Processing/Homework\n"
     ]
    }
   ],
   "source": [
    "# Check current directory\n",
    "import os\n",
    "cwd = os.getcwd()\n",
    "print(cwd)"
   ]
  },
  {
   "cell_type": "code",
   "execution_count": 2,
   "metadata": {},
   "outputs": [],
   "source": [
    "# Read Data\n",
    "import json\n",
    "import pandas as pd\n",
    "import gzip\n",
    "\n",
    "# Unzip file\n",
    "def parse(path):\n",
    "  g = gzip.open(path, 'rb')\n",
    "  for l in g:\n",
    "    yield json.loads(l)\n",
    "\n",
    "# Parse from json to pandas dataframe\n",
    "def getDF(path):\n",
    "  i = 0\n",
    "  df = {}\n",
    "  for d in parse(path):\n",
    "    df[i] = d\n",
    "    i += 1\n",
    "  return pd.DataFrame.from_dict(df, orient='index')\n",
    "\n",
    "df = getDF('AMAZON_FASHION.json.gz')"
   ]
  },
  {
   "cell_type": "code",
   "execution_count": 3,
   "metadata": {
    "scrolled": true
   },
   "outputs": [],
   "source": [
    "# Remove Unneccesary Columns\n",
    "df = df.drop(['verified', 'reviewerID', 'asin', 'unixReviewTime', 'style', 'image'], axis = 1)\n",
    "\n",
    "# Rename Columns\n",
    "df = df.rename(columns={\"overall\": \"rating\", \"reviewText\": \"review\"})\n",
    "\n",
    "# Convert object column to string\n",
    "df[\"review\"] = df[\"review\"].astype('str')"
   ]
  },
  {
   "cell_type": "code",
   "execution_count": 4,
   "metadata": {},
   "outputs": [],
   "source": [
    "# Save pandas dataframe as pickle object\n",
    "import pickle\n",
    "with open(\"data/amazon_fashion_reviews.pkl\", 'wb') as f:\n",
    "    pickle.dump(df, f)"
   ]
  },
  {
   "cell_type": "code",
   "execution_count": 5,
   "metadata": {},
   "outputs": [],
   "source": [
    "# Read File\n",
    "with open(\"data/amazon_fashion_reviews.pkl\", 'rb') as f:\n",
    "  df = pickle.load(f)"
   ]
  },
  {
   "cell_type": "markdown",
   "metadata": {},
   "source": [
    "***\n",
    "\n",
    "### Data Description\n",
    "\n",
    "This dataset contains reviews from Amazon from May 1996 - Oct 2018. The dataset is focused on reviews under the category of Amazon Fashion, which refers to Amazon-branded fashion products. The data was obtained from [Ni Jian Mo]('https://nijianmo.github.io/amazon/index.html'), who has created a database of webscrapped Amazon reviews.\n",
    "\n",
    "- 883,636 Rows, 6 Columns\n",
    "    - `rating` is the Star-Rating\n",
    "    - `reviewTime` is time of Rating \\ Review\n",
    "    - `reviewerName` is the name of the person who gave the Review\n",
    "    - `review` is the Review\n",
    "    - `summary` is the header for the Review\n",
    "    - `vote` is the number of public votes for whether the Review was helpful or not"
   ]
  },
  {
   "cell_type": "code",
   "execution_count": 6,
   "metadata": {
    "scrolled": true
   },
   "outputs": [
    {
     "data": {
      "text/html": [
       "<div>\n",
       "<style scoped>\n",
       "    .dataframe tbody tr th:only-of-type {\n",
       "        vertical-align: middle;\n",
       "    }\n",
       "\n",
       "    .dataframe tbody tr th {\n",
       "        vertical-align: top;\n",
       "    }\n",
       "\n",
       "    .dataframe thead th {\n",
       "        text-align: right;\n",
       "    }\n",
       "</style>\n",
       "<table border=\"1\" class=\"dataframe\">\n",
       "  <thead>\n",
       "    <tr style=\"text-align: right;\">\n",
       "      <th></th>\n",
       "      <th>rating</th>\n",
       "      <th>reviewTime</th>\n",
       "      <th>reviewerName</th>\n",
       "      <th>review</th>\n",
       "      <th>summary</th>\n",
       "      <th>vote</th>\n",
       "    </tr>\n",
       "  </thead>\n",
       "  <tbody>\n",
       "    <tr>\n",
       "      <th>0</th>\n",
       "      <td>5.0</td>\n",
       "      <td>10 20, 2014</td>\n",
       "      <td>Tracy</td>\n",
       "      <td>Exactly what I needed.</td>\n",
       "      <td>perfect replacements!!</td>\n",
       "      <td>NaN</td>\n",
       "    </tr>\n",
       "    <tr>\n",
       "      <th>1</th>\n",
       "      <td>2.0</td>\n",
       "      <td>09 28, 2014</td>\n",
       "      <td>Sonja Lau</td>\n",
       "      <td>I agree with the other review, the opening is ...</td>\n",
       "      <td>I agree with the other review, the opening is ...</td>\n",
       "      <td>3</td>\n",
       "    </tr>\n",
       "    <tr>\n",
       "      <th>2</th>\n",
       "      <td>4.0</td>\n",
       "      <td>08 25, 2014</td>\n",
       "      <td>Kathleen</td>\n",
       "      <td>Love these... I am going to order another pack...</td>\n",
       "      <td>My New 'Friends' !!</td>\n",
       "      <td>NaN</td>\n",
       "    </tr>\n",
       "    <tr>\n",
       "      <th>3</th>\n",
       "      <td>2.0</td>\n",
       "      <td>08 24, 2014</td>\n",
       "      <td>Jodi Stoner</td>\n",
       "      <td>too tiny an opening</td>\n",
       "      <td>Two Stars</td>\n",
       "      <td>NaN</td>\n",
       "    </tr>\n",
       "    <tr>\n",
       "      <th>4</th>\n",
       "      <td>3.0</td>\n",
       "      <td>07 27, 2014</td>\n",
       "      <td>Alexander D.</td>\n",
       "      <td>Okay</td>\n",
       "      <td>Three Stars</td>\n",
       "      <td>NaN</td>\n",
       "    </tr>\n",
       "  </tbody>\n",
       "</table>\n",
       "</div>"
      ],
      "text/plain": [
       "   rating   reviewTime  reviewerName  \\\n",
       "0     5.0  10 20, 2014         Tracy   \n",
       "1     2.0  09 28, 2014     Sonja Lau   \n",
       "2     4.0  08 25, 2014      Kathleen   \n",
       "3     2.0  08 24, 2014   Jodi Stoner   \n",
       "4     3.0  07 27, 2014  Alexander D.   \n",
       "\n",
       "                                              review  \\\n",
       "0                             Exactly what I needed.   \n",
       "1  I agree with the other review, the opening is ...   \n",
       "2  Love these... I am going to order another pack...   \n",
       "3                                too tiny an opening   \n",
       "4                                               Okay   \n",
       "\n",
       "                                             summary vote  \n",
       "0                             perfect replacements!!  NaN  \n",
       "1  I agree with the other review, the opening is ...    3  \n",
       "2                                My New 'Friends' !!  NaN  \n",
       "3                                          Two Stars  NaN  \n",
       "4                                        Three Stars  NaN  "
      ]
     },
     "execution_count": 6,
     "metadata": {},
     "output_type": "execute_result"
    }
   ],
   "source": [
    "# Print Head\n",
    "df.head()"
   ]
  },
  {
   "cell_type": "code",
   "execution_count": 7,
   "metadata": {},
   "outputs": [
    {
     "data": {
      "text/plain": [
       "5.0    0.526773\n",
       "4.0    0.168996\n",
       "1.0    0.121181\n",
       "3.0    0.109809\n",
       "2.0    0.073241\n",
       "Name: rating, dtype: float64"
      ]
     },
     "execution_count": 7,
     "metadata": {},
     "output_type": "execute_result"
    }
   ],
   "source": [
    "# Distribution of Ratings\n",
    "df['rating'].value_counts(normalize = True)"
   ]
  },
  {
   "cell_type": "code",
   "execution_count": 8,
   "metadata": {},
   "outputs": [
    {
     "data": {
      "image/png": "[encoded data removed]",
      "text/plain": [
       "<Figure size 432x288 with 1 Axes>"
      ]
     },
     "metadata": {
      "needs_background": "light"
     },
     "output_type": "display_data"
    }
   ],
   "source": [
    "# Histogram of Ratings\n",
    "import matplotlib.pyplot as plt\n",
    "df['rating'].hist(color = \"#ffc39f\")\n",
    "\n",
    "# Add title and axis names\n",
    "plt.title(\"Histogram of Ratings for Amazon-branded Fashion Products\", fontsize=15)\n",
    "plt.xlabel(\"Ratings\")\n",
    "plt.ylabel(\"Count\")\n",
    "plt.style.use('fivethirtyeight')\n",
    "plt.show()"
   ]
  },
  {
   "cell_type": "code",
   "execution_count": 17,
   "metadata": {},
   "outputs": [
    {
     "name": "stdout",
     "output_type": "stream",
     "text": [
      "Kurtosis:  -0.41781126903706367\n",
      "Skew:  -1.0089672535223233\n"
     ]
    }
   ],
   "source": [
    "from scipy.stats import kurtosis\n",
    "from scipy.stats import skew\n",
    "import numpy as np\n",
    "print(\"Mean: \",np.mean(df['rating']))\n",
    "print(\"Median: \",np.median(df['rating']))\n",
    "print(\"Kurtosis: \",kurtosis(df['rating']))\n",
    "print(\"Skew: \",skew(df['rating']))"
   ]
  },
  {
   "cell_type": "markdown",
   "metadata": {},
   "source": [
    "### Text Pre-Processing\n",
    "\n",
    "- Clean up the plain-text reviews so that NLP techniques can be applied"
   ]
  },
  {
   "cell_type": "code",
   "execution_count": 19,
   "metadata": {},
   "outputs": [
    {
     "name": "stderr",
     "output_type": "stream",
     "text": [
      "[nltk_data] Downloading package wordnet to\n",
      "[nltk_data]     /Users/geraldlee/nltk_data...\n",
      "[nltk_data]   Package wordnet is already up-to-date!\n"
     ]
    }
   ],
   "source": [
    "# Load necessary text mining libraries\n",
    "import nltk\n",
    "# Set stop words to english stopwords\n",
    "stop_words = set(nltk.corpus.stopwords.words('english'))\n",
    "import re\n",
    "import string\n",
    "from nltk.stem import WordNetLemmatizer\n",
    "nltk.download('wordnet')\n",
    "my_stem = WordNetLemmatizer() # Lemmatization"
   ]
  },
  {
   "cell_type": "code",
   "execution_count": 20,
   "metadata": {},
   "outputs": [],
   "source": [
    "# Text Cleaner Function\n",
    "def text_cleaner(text):\n",
    "    clean_text = re.sub('[^a-zA-Z]+', ' ', str(text)) # Remove Punctuations and Digits\n",
    "    clean_text = [word.lower() for word in clean_text.split() if word not in stop_words] # Remove Stopwords & lowercase\n",
    "    clean_text = [my_stem.lemmatize(word) for word in clean_text] # Stemming of Root words\n",
    "    clean_text = ' '.join(clean_text) # Join back the words to form a sentence\n",
    "    return clean_text"
   ]
  },
  {
   "cell_type": "code",
   "execution_count": 21,
   "metadata": {},
   "outputs": [],
   "source": [
    "df['review'] = df['review'].apply(text_cleaner)"
   ]
  },
  {
   "cell_type": "code",
   "execution_count": 22,
   "metadata": {
    "scrolled": true
   },
   "outputs": [
    {
     "data": {
      "text/html": [
       "<div>\n",
       "<style scoped>\n",
       "    .dataframe tbody tr th:only-of-type {\n",
       "        vertical-align: middle;\n",
       "    }\n",
       "\n",
       "    .dataframe tbody tr th {\n",
       "        vertical-align: top;\n",
       "    }\n",
       "\n",
       "    .dataframe thead th {\n",
       "        text-align: right;\n",
       "    }\n",
       "</style>\n",
       "<table border=\"1\" class=\"dataframe\">\n",
       "  <thead>\n",
       "    <tr style=\"text-align: right;\">\n",
       "      <th></th>\n",
       "      <th>rating</th>\n",
       "      <th>reviewTime</th>\n",
       "      <th>reviewerName</th>\n",
       "      <th>review</th>\n",
       "      <th>summary</th>\n",
       "      <th>vote</th>\n",
       "    </tr>\n",
       "  </thead>\n",
       "  <tbody>\n",
       "    <tr>\n",
       "      <th>0</th>\n",
       "      <td>5.0</td>\n",
       "      <td>10 20, 2014</td>\n",
       "      <td>Tracy</td>\n",
       "      <td>exactly i needed</td>\n",
       "      <td>perfect replacements!!</td>\n",
       "      <td>NaN</td>\n",
       "    </tr>\n",
       "    <tr>\n",
       "      <th>1</th>\n",
       "      <td>2.0</td>\n",
       "      <td>09 28, 2014</td>\n",
       "      <td>Sonja Lau</td>\n",
       "      <td>i agree review opening small i almost bent hoo...</td>\n",
       "      <td>I agree with the other review, the opening is ...</td>\n",
       "      <td>3</td>\n",
       "    </tr>\n",
       "    <tr>\n",
       "      <th>2</th>\n",
       "      <td>4.0</td>\n",
       "      <td>08 25, 2014</td>\n",
       "      <td>Kathleen</td>\n",
       "      <td>love i going order another pack keep work some...</td>\n",
       "      <td>My New 'Friends' !!</td>\n",
       "      <td>NaN</td>\n",
       "    </tr>\n",
       "    <tr>\n",
       "      <th>3</th>\n",
       "      <td>2.0</td>\n",
       "      <td>08 24, 2014</td>\n",
       "      <td>Jodi Stoner</td>\n",
       "      <td>tiny opening</td>\n",
       "      <td>Two Stars</td>\n",
       "      <td>NaN</td>\n",
       "    </tr>\n",
       "    <tr>\n",
       "      <th>4</th>\n",
       "      <td>3.0</td>\n",
       "      <td>07 27, 2014</td>\n",
       "      <td>Alexander D.</td>\n",
       "      <td>okay</td>\n",
       "      <td>Three Stars</td>\n",
       "      <td>NaN</td>\n",
       "    </tr>\n",
       "  </tbody>\n",
       "</table>\n",
       "</div>"
      ],
      "text/plain": [
       "   rating   reviewTime  reviewerName  \\\n",
       "0     5.0  10 20, 2014         Tracy   \n",
       "1     2.0  09 28, 2014     Sonja Lau   \n",
       "2     4.0  08 25, 2014      Kathleen   \n",
       "3     2.0  08 24, 2014   Jodi Stoner   \n",
       "4     3.0  07 27, 2014  Alexander D.   \n",
       "\n",
       "                                              review  \\\n",
       "0                                   exactly i needed   \n",
       "1  i agree review opening small i almost bent hoo...   \n",
       "2  love i going order another pack keep work some...   \n",
       "3                                       tiny opening   \n",
       "4                                               okay   \n",
       "\n",
       "                                             summary vote  \n",
       "0                             perfect replacements!!  NaN  \n",
       "1  I agree with the other review, the opening is ...    3  \n",
       "2                                My New 'Friends' !!  NaN  \n",
       "3                                          Two Stars  NaN  \n",
       "4                                        Three Stars  NaN  "
      ]
     },
     "execution_count": 22,
     "metadata": {},
     "output_type": "execute_result"
    }
   ],
   "source": [
    "df.head()"
   ]
  },
  {
   "cell_type": "code",
   "execution_count": 23,
   "metadata": {},
   "outputs": [
    {
     "data": {
      "image/png": "[encoded data removed]",
      "text/plain": [
       "<Figure size 432x288 with 1 Axes>"
      ]
     },
     "metadata": {},
     "output_type": "display_data"
    }
   ],
   "source": [
    "# Visualize missing Data\n",
    "df.isna().sum().plot(kind = \"bar\")\n",
    "plt.show()"
   ]
  },
  {
   "cell_type": "markdown",
   "metadata": {},
   "source": [
    "### Sentiment Analysis\n",
    "- Use AFINN lexicon\n",
    "- Sentiment Score will be derived by taking the total of polarity scores per review\n",
    "    - i.e. +5 + 6 +1 -1 -1 = +10 (positive)"
   ]
  },
  {
   "cell_type": "code",
   "execution_count": 24,
   "metadata": {},
   "outputs": [],
   "source": [
    "from afinn import Afinn\n",
    "afinn = Afinn(language='en')"
   ]
  },
  {
   "cell_type": "code",
   "execution_count": 25,
   "metadata": {},
   "outputs": [],
   "source": [
    "# compute sentiment scores (polarity) and labels\n",
    "afinn_sentiment_score = [afinn.score(i) for i in df['review']]\n",
    "sentiment_category = ['positive' if score > 0 \n",
    "                          else 'negative' if score < 0 \n",
    "                              else 'neutral' \n",
    "                                  for score in afinn_sentiment_score]\n",
    "\n",
    "# Append to dataframe\n",
    "df['sentiment_score'] = afinn_sentiment_score\n",
    "df['sentiment_category'] = sentiment_category\n",
    "\n",
    "# Set as numerical\n",
    "df['sentiment_score'] = df['sentiment_score'].astype('float')"
   ]
  },
  {
   "cell_type": "code",
   "execution_count": 26,
   "metadata": {},
   "outputs": [],
   "source": [
    "# Save pandas dataframe as pickle object\n",
    "import pickle\n",
    "with open(\"data/amazon_fashion_reviews_final.pkl\", 'wb') as f:\n",
    "    pickle.dump(df, f)"
   ]
  },
  {
   "cell_type": "code",
   "execution_count": 27,
   "metadata": {},
   "outputs": [],
   "source": [
    "# Read File\n",
    "with open(\"data/amazon_fashion_reviews_final.pkl\", 'rb') as f:\n",
    "  df = pickle.load(f)"
   ]
  },
  {
   "cell_type": "code",
   "execution_count": 28,
   "metadata": {},
   "outputs": [
    {
     "data": {
      "text/html": [
       "<div>\n",
       "<style scoped>\n",
       "    .dataframe tbody tr th:only-of-type {\n",
       "        vertical-align: middle;\n",
       "    }\n",
       "\n",
       "    .dataframe tbody tr th {\n",
       "        vertical-align: top;\n",
       "    }\n",
       "\n",
       "    .dataframe thead tr th {\n",
       "        text-align: left;\n",
       "    }\n",
       "\n",
       "    .dataframe thead tr:last-of-type th {\n",
       "        text-align: right;\n",
       "    }\n",
       "</style>\n",
       "<table border=\"1\" class=\"dataframe\">\n",
       "  <thead>\n",
       "    <tr>\n",
       "      <th></th>\n",
       "      <th colspan=\"8\" halign=\"left\">sentiment_score</th>\n",
       "    </tr>\n",
       "    <tr>\n",
       "      <th></th>\n",
       "      <th>count</th>\n",
       "      <th>mean</th>\n",
       "      <th>std</th>\n",
       "      <th>min</th>\n",
       "      <th>25%</th>\n",
       "      <th>50%</th>\n",
       "      <th>75%</th>\n",
       "      <th>max</th>\n",
       "    </tr>\n",
       "    <tr>\n",
       "      <th>rating</th>\n",
       "      <th></th>\n",
       "      <th></th>\n",
       "      <th></th>\n",
       "      <th></th>\n",
       "      <th></th>\n",
       "      <th></th>\n",
       "      <th></th>\n",
       "      <th></th>\n",
       "    </tr>\n",
       "  </thead>\n",
       "  <tbody>\n",
       "    <tr>\n",
       "      <th>1.0</th>\n",
       "      <td>107080.0</td>\n",
       "      <td>0.575336</td>\n",
       "      <td>3.452717</td>\n",
       "      <td>-32.0</td>\n",
       "      <td>-1.0</td>\n",
       "      <td>0.0</td>\n",
       "      <td>2.0</td>\n",
       "      <td>138.0</td>\n",
       "    </tr>\n",
       "    <tr>\n",
       "      <th>2.0</th>\n",
       "      <td>64718.0</td>\n",
       "      <td>2.093173</td>\n",
       "      <td>3.789818</td>\n",
       "      <td>-17.0</td>\n",
       "      <td>0.0</td>\n",
       "      <td>1.0</td>\n",
       "      <td>4.0</td>\n",
       "      <td>56.0</td>\n",
       "    </tr>\n",
       "    <tr>\n",
       "      <th>3.0</th>\n",
       "      <td>97031.0</td>\n",
       "      <td>3.257134</td>\n",
       "      <td>4.333394</td>\n",
       "      <td>-17.0</td>\n",
       "      <td>0.0</td>\n",
       "      <td>2.0</td>\n",
       "      <td>5.0</td>\n",
       "      <td>112.0</td>\n",
       "    </tr>\n",
       "    <tr>\n",
       "      <th>4.0</th>\n",
       "      <td>149331.0</td>\n",
       "      <td>5.215642</td>\n",
       "      <td>5.160539</td>\n",
       "      <td>-24.0</td>\n",
       "      <td>2.0</td>\n",
       "      <td>4.0</td>\n",
       "      <td>7.0</td>\n",
       "      <td>110.0</td>\n",
       "    </tr>\n",
       "    <tr>\n",
       "      <th>5.0</th>\n",
       "      <td>465476.0</td>\n",
       "      <td>6.075914</td>\n",
       "      <td>5.510911</td>\n",
       "      <td>-21.0</td>\n",
       "      <td>3.0</td>\n",
       "      <td>5.0</td>\n",
       "      <td>8.0</td>\n",
       "      <td>954.0</td>\n",
       "    </tr>\n",
       "  </tbody>\n",
       "</table>\n",
       "</div>"
      ],
      "text/plain": [
       "       sentiment_score                                                \n",
       "                 count      mean       std   min  25%  50%  75%    max\n",
       "rating                                                                \n",
       "1.0           107080.0  0.575336  3.452717 -32.0 -1.0  0.0  2.0  138.0\n",
       "2.0            64718.0  2.093173  3.789818 -17.0  0.0  1.0  4.0   56.0\n",
       "3.0            97031.0  3.257134  4.333394 -17.0  0.0  2.0  5.0  112.0\n",
       "4.0           149331.0  5.215642  5.160539 -24.0  2.0  4.0  7.0  110.0\n",
       "5.0           465476.0  6.075914  5.510911 -21.0  3.0  5.0  8.0  954.0"
      ]
     },
     "execution_count": 28,
     "metadata": {},
     "output_type": "execute_result"
    }
   ],
   "source": [
    "df.groupby(by=['rating']).describe()"
   ]
  },
  {
   "cell_type": "code",
   "execution_count": 29,
   "metadata": {},
   "outputs": [
    {
     "name": "stdout",
     "output_type": "stream",
     "text": [
      "Mean:  4.662740087547361\n",
      "Median:  3.0\n",
      "Kurtosis:  1118.1266901131914\n",
      "Skew:  8.537818096857732\n"
     ]
    }
   ],
   "source": [
    "from scipy.stats import kurtosis\n",
    "from scipy.stats import skew\n",
    "import numpy as np\n",
    "print(\"Mean: \",np.mean(df['sentiment_score']))\n",
    "print(\"Median: \",np.median(df['sentiment_score']))\n",
    "print(\"Kurtosis: \",kurtosis(df['sentiment_score']))\n",
    "print(\"Skew: \",skew(df['sentiment_score']))"
   ]
  },
  {
   "cell_type": "code",
   "execution_count": 35,
   "metadata": {},
   "outputs": [
    {
     "data": {
      "image/png": "[encoded data removed]",
      "text/plain": [
       "<Figure size 432x288 with 1 Axes>"
      ]
     },
     "metadata": {},
     "output_type": "display_data"
    }
   ],
   "source": [
    "# Histogram of Sentiment Score\n",
    "df['sentiment_score'][df['sentiment_score'] < 40].hist(color = '#ffc39f')\n",
    "\n",
    "# Add title and axis names\n",
    "plt.title(\"Histogram of Sentiment Score for Amazon-branded Fashion Products\", fontsize=15)\n",
    "plt.xlabel(\"Sentiment Score\")\n",
    "plt.ylabel(\"Count\")\n",
    "plt.style.use('fivethirtyeight')\n",
    "plt.show()"
   ]
  },
  {
   "cell_type": "code",
   "execution_count": 36,
   "metadata": {},
   "outputs": [
    {
     "data": {
      "image/png": "[encoded data removed]",
      "text/plain": [
       "<Figure size 432x288 with 1 Axes>"
      ]
     },
     "metadata": {},
     "output_type": "display_data"
    }
   ],
   "source": [
    "x = df['sentiment_score']\n",
    "y = df['rating']\n",
    "\n",
    "plt.scatter(x, y, color = 'red')\n",
    "plt.title('Scatter plot for 5-Star ratings ~ AFINN Sentiment Score')\n",
    "plt.xlabel('AFINN Sentiment Score')\n",
    "plt.ylabel('5-Star ratings')\n",
    "plt.show()"
   ]
  },
  {
   "cell_type": "markdown",
   "metadata": {},
   "source": [
    "### Print Samples of Reviews from Sentiment Analysis"
   ]
  },
  {
   "cell_type": "code",
   "execution_count": 21,
   "metadata": {},
   "outputs": [],
   "source": [
    "pd.options.display.max_colwidth = 150"
   ]
  },
  {
   "cell_type": "code",
   "execution_count": 22,
   "metadata": {
    "scrolled": true
   },
   "outputs": [
    {
     "data": {
      "text/html": [
       "<div>\n",
       "<style scoped>\n",
       "    .dataframe tbody tr th:only-of-type {\n",
       "        vertical-align: middle;\n",
       "    }\n",
       "\n",
       "    .dataframe tbody tr th {\n",
       "        vertical-align: top;\n",
       "    }\n",
       "\n",
       "    .dataframe thead th {\n",
       "        text-align: right;\n",
       "    }\n",
       "</style>\n",
       "<table border=\"1\" class=\"dataframe\">\n",
       "  <thead>\n",
       "    <tr style=\"text-align: right;\">\n",
       "      <th></th>\n",
       "      <th>review</th>\n",
       "      <th>rating</th>\n",
       "      <th>sentiment_score</th>\n",
       "    </tr>\n",
       "  </thead>\n",
       "  <tbody>\n",
       "    <tr>\n",
       "      <th>595</th>\n",
       "      <td>these shirt great v neck fit perfectly comfortable look great they used black shirt ever needed i love wear every day shirt the nice cotton design...</td>\n",
       "      <td>5.0</td>\n",
       "      <td>77.0</td>\n",
       "    </tr>\n",
       "    <tr>\n",
       "      <th>7839</th>\n",
       "      <td>this sort watch noticed some love hate seen review mixed review good reason this beautiful watch design awesome weight somewhat light feel plastic...</td>\n",
       "      <td>4.0</td>\n",
       "      <td>78.0</td>\n",
       "    </tr>\n",
       "    <tr>\n",
       "      <th>13783</th>\n",
       "      <td>after searching perfect dr scholl insert running shoe original inside wore i decided settle pair designated work shoe i read review multiple site ...</td>\n",
       "      <td>4.0</td>\n",
       "      <td>73.0</td>\n",
       "    </tr>\n",
       "    <tr>\n",
       "      <th>15303</th>\n",
       "      <td>an ex football player past prime lb size d medium arch i recently diagnosed plantar fasciitis my orthopedist recommended daily stretching exercise...</td>\n",
       "      <td>3.0</td>\n",
       "      <td>64.0</td>\n",
       "    </tr>\n",
       "    <tr>\n",
       "      <th>27286</th>\n",
       "      <td>after searching perfect dr scholl insert running shoe original inside wore i decided settle pair designated work shoe i read review multiple site ...</td>\n",
       "      <td>4.0</td>\n",
       "      <td>73.0</td>\n",
       "    </tr>\n",
       "  </tbody>\n",
       "</table>\n",
       "</div>"
      ],
      "text/plain": [
       "                                                                                                                                                      review  \\\n",
       "595    these shirt great v neck fit perfectly comfortable look great they used black shirt ever needed i love wear every day shirt the nice cotton design...   \n",
       "7839   this sort watch noticed some love hate seen review mixed review good reason this beautiful watch design awesome weight somewhat light feel plastic...   \n",
       "13783  after searching perfect dr scholl insert running shoe original inside wore i decided settle pair designated work shoe i read review multiple site ...   \n",
       "15303  an ex football player past prime lb size d medium arch i recently diagnosed plantar fasciitis my orthopedist recommended daily stretching exercise...   \n",
       "27286  after searching perfect dr scholl insert running shoe original inside wore i decided settle pair designated work shoe i read review multiple site ...   \n",
       "\n",
       "       rating  sentiment_score  \n",
       "595       5.0             77.0  \n",
       "7839      4.0             78.0  \n",
       "13783     4.0             73.0  \n",
       "15303     3.0             64.0  \n",
       "27286     4.0             73.0  "
      ]
     },
     "execution_count": 22,
     "metadata": {},
     "output_type": "execute_result"
    }
   ],
   "source": [
    "# Where sentiment scores are really positive, > 50\n",
    "df[df['sentiment_score'] > 50][['review', 'rating', 'sentiment_score']].head(5)"
   ]
  },
  {
   "cell_type": "code",
   "execution_count": 23,
   "metadata": {},
   "outputs": [
    {
     "data": {
      "text/html": [
       "<div>\n",
       "<style scoped>\n",
       "    .dataframe tbody tr th:only-of-type {\n",
       "        vertical-align: middle;\n",
       "    }\n",
       "\n",
       "    .dataframe tbody tr th {\n",
       "        vertical-align: top;\n",
       "    }\n",
       "\n",
       "    .dataframe thead th {\n",
       "        text-align: right;\n",
       "    }\n",
       "</style>\n",
       "<table border=\"1\" class=\"dataframe\">\n",
       "  <thead>\n",
       "    <tr style=\"text-align: right;\">\n",
       "      <th></th>\n",
       "      <th>review</th>\n",
       "      <th>rating</th>\n",
       "      <th>sentiment_score</th>\n",
       "    </tr>\n",
       "  </thead>\n",
       "  <tbody>\n",
       "    <tr>\n",
       "      <th>2433</th>\n",
       "      <td>frog small cute totally uncomfortable others lost year ordering one mistake hurt soooooo badly putting always hard finally broke bother find diffe...</td>\n",
       "      <td>3.0</td>\n",
       "      <td>-14.0</td>\n",
       "    </tr>\n",
       "    <tr>\n",
       "      <th>2533</th>\n",
       "      <td>i always bought bostonian wingtips i could wear year sol replaced wear year they broke well fit like glove but particular shoe awful i mean bad th...</td>\n",
       "      <td>1.0</td>\n",
       "      <td>-13.0</td>\n",
       "    </tr>\n",
       "    <tr>\n",
       "      <th>3216</th>\n",
       "      <td>this horrible buy horrible material all wrinkly skirt stuck together pulled apart skirt changed color old packing looked used i think completely d...</td>\n",
       "      <td>1.0</td>\n",
       "      <td>-12.0</td>\n",
       "    </tr>\n",
       "    <tr>\n",
       "      <th>4690</th>\n",
       "      <td>nothing spectacular made china warning warning this product contains chemical know state california cause cancer birth defect reproductive harm th...</td>\n",
       "      <td>2.0</td>\n",
       "      <td>-15.0</td>\n",
       "    </tr>\n",
       "    <tr>\n",
       "      <th>8163</th>\n",
       "      <td>this wig terrible and itchy i dissatisfied disappointed item it ugly ratty itchy wig total waste money i work well known retail chain wig part hal...</td>\n",
       "      <td>1.0</td>\n",
       "      <td>-18.0</td>\n",
       "    </tr>\n",
       "    <tr>\n",
       "      <th>...</th>\n",
       "      <td>...</td>\n",
       "      <td>...</td>\n",
       "      <td>...</td>\n",
       "    </tr>\n",
       "    <tr>\n",
       "      <th>876220</th>\n",
       "      <td>sewing poorly done sleeve tight body loose raise arm neck area shirt looked horrible bad sewing</td>\n",
       "      <td>1.0</td>\n",
       "      <td>-11.0</td>\n",
       "    </tr>\n",
       "    <tr>\n",
       "      <th>877114</th>\n",
       "      <td>i terribly sad disappointed product it is cheaply made and horrible i purchased daughter birthday broke heart wore first time now i money cheap ho...</td>\n",
       "      <td>1.0</td>\n",
       "      <td>-24.0</td>\n",
       "    </tr>\n",
       "    <tr>\n",
       "      <th>877724</th>\n",
       "      <td>class a no construction all working part metal metal ie thread wood strip beachwood much harder denser close grained wood either pine soft hard ri...</td>\n",
       "      <td>4.0</td>\n",
       "      <td>-13.0</td>\n",
       "    </tr>\n",
       "    <tr>\n",
       "      <th>880533</th>\n",
       "      <td>the brand hb it brand called otb and colour absolutely nothing advertised it horrible shade bright indigo blue i sooo upset order hate it hate it ...</td>\n",
       "      <td>1.0</td>\n",
       "      <td>-13.0</td>\n",
       "    </tr>\n",
       "    <tr>\n",
       "      <th>883187</th>\n",
       "      <td>worst hat ever buy first hat came small plastic bag caused brim fabric horrible crease line the brim sown correctly crooked inside stuck forehead ...</td>\n",
       "      <td>1.0</td>\n",
       "      <td>-12.0</td>\n",
       "    </tr>\n",
       "  </tbody>\n",
       "</table>\n",
       "<p>401 rows × 3 columns</p>\n",
       "</div>"
      ],
      "text/plain": [
       "                                                                                                                                                       review  \\\n",
       "2433    frog small cute totally uncomfortable others lost year ordering one mistake hurt soooooo badly putting always hard finally broke bother find diffe...   \n",
       "2533    i always bought bostonian wingtips i could wear year sol replaced wear year they broke well fit like glove but particular shoe awful i mean bad th...   \n",
       "3216    this horrible buy horrible material all wrinkly skirt stuck together pulled apart skirt changed color old packing looked used i think completely d...   \n",
       "4690    nothing spectacular made china warning warning this product contains chemical know state california cause cancer birth defect reproductive harm th...   \n",
       "8163    this wig terrible and itchy i dissatisfied disappointed item it ugly ratty itchy wig total waste money i work well known retail chain wig part hal...   \n",
       "...                                                                                                                                                       ...   \n",
       "876220                                                        sewing poorly done sleeve tight body loose raise arm neck area shirt looked horrible bad sewing   \n",
       "877114  i terribly sad disappointed product it is cheaply made and horrible i purchased daughter birthday broke heart wore first time now i money cheap ho...   \n",
       "877724  class a no construction all working part metal metal ie thread wood strip beachwood much harder denser close grained wood either pine soft hard ri...   \n",
       "880533  the brand hb it brand called otb and colour absolutely nothing advertised it horrible shade bright indigo blue i sooo upset order hate it hate it ...   \n",
       "883187  worst hat ever buy first hat came small plastic bag caused brim fabric horrible crease line the brim sown correctly crooked inside stuck forehead ...   \n",
       "\n",
       "        rating  sentiment_score  \n",
       "2433       3.0            -14.0  \n",
       "2533       1.0            -13.0  \n",
       "3216       1.0            -12.0  \n",
       "4690       2.0            -15.0  \n",
       "8163       1.0            -18.0  \n",
       "...        ...              ...  \n",
       "876220     1.0            -11.0  \n",
       "877114     1.0            -24.0  \n",
       "877724     4.0            -13.0  \n",
       "880533     1.0            -13.0  \n",
       "883187     1.0            -12.0  \n",
       "\n",
       "[401 rows x 3 columns]"
      ]
     },
     "execution_count": 23,
     "metadata": {},
     "output_type": "execute_result"
    }
   ],
   "source": [
    "# Where sentiment scores are negative, -10\n",
    "df[(df['sentiment_score'] < -10)][['review', 'rating', 'sentiment_score']]"
   ]
  },
  {
   "cell_type": "code",
   "execution_count": 24,
   "metadata": {
    "scrolled": true
   },
   "outputs": [
    {
     "data": {
      "image/png": "[encoded data removed]",
      "text/plain": [
       "<Figure size 1008x288 with 2 Axes>"
      ]
     },
     "metadata": {},
     "output_type": "display_data"
    }
   ],
   "source": [
    "# Visualize the distribution of sentiment scores based on ratings\n",
    "import seaborn as sns\n",
    "f, (ax1, ax2) = plt.subplots(1, 2, figsize=(14, 4))\n",
    "sp = sns.stripplot(x='rating', y=\"sentiment_score\", \n",
    "                   hue='rating', data=df[df['sentiment_score'] < 200], palette=\"Set2\", ax=ax1)\n",
    "bp = sns.boxplot(x='rating', y=\"sentiment_score\", \n",
    "                 hue='rating', data=df[df['sentiment_score'] < 200], palette=\"Set2\", ax=ax2)\n",
    "t = f.suptitle('Visualizing Sentiment of Amazon reviews for Fashion Products', fontsize=14)"
   ]
  },
  {
   "cell_type": "code",
   "execution_count": 25,
   "metadata": {},
   "outputs": [
    {
     "data": {
      "image/png": "[encoded data removed]",
      "text/plain": [
       "<Figure size 539.075x360 with 1 Axes>"
      ]
     },
     "metadata": {},
     "output_type": "display_data"
    }
   ],
   "source": [
    "# Visualization continued\n",
    "fc = sns.catplot(x=\"rating\", hue=\"sentiment_category\", \n",
    "                 data=df[df['sentiment_score'] < 40], kind=\"count\", \n",
    "                 palette={\"negative\": \"#FFC39F\", \n",
    "                          \"positive\": \"#F7965C\", \n",
    "                          \"neutral\": \"#434343\"})"
   ]
  },
  {
   "cell_type": "code",
   "execution_count": 29,
   "metadata": {},
   "outputs": [
    {
     "data": {
      "text/html": [
       "<div>\n",
       "<style scoped>\n",
       "    .dataframe tbody tr th:only-of-type {\n",
       "        vertical-align: middle;\n",
       "    }\n",
       "\n",
       "    .dataframe tbody tr th {\n",
       "        vertical-align: top;\n",
       "    }\n",
       "\n",
       "    .dataframe thead th {\n",
       "        text-align: right;\n",
       "    }\n",
       "</style>\n",
       "<table border=\"1\" class=\"dataframe\">\n",
       "  <thead>\n",
       "    <tr style=\"text-align: right;\">\n",
       "      <th></th>\n",
       "      <th>rating</th>\n",
       "      <th>reviewTime</th>\n",
       "      <th>reviewerName</th>\n",
       "      <th>review</th>\n",
       "      <th>summary</th>\n",
       "      <th>vote</th>\n",
       "      <th>sentiment_score</th>\n",
       "      <th>sentiment_category</th>\n",
       "    </tr>\n",
       "  </thead>\n",
       "  <tbody>\n",
       "    <tr>\n",
       "      <th>445247</th>\n",
       "      <td>1.0</td>\n",
       "      <td>03 13, 2015</td>\n",
       "      <td>Jorge</td>\n",
       "      <td>the quality poor look nice picture look cheap material whe see</td>\n",
       "      <td>One Star</td>\n",
       "      <td>NaN</td>\n",
       "      <td>3.0</td>\n",
       "      <td>positive</td>\n",
       "    </tr>\n",
       "    <tr>\n",
       "      <th>329401</th>\n",
       "      <td>1.0</td>\n",
       "      <td>01 18, 2016</td>\n",
       "      <td>Kelly King</td>\n",
       "      <td>it nice two small i need xl</td>\n",
       "      <td>One Star</td>\n",
       "      <td>NaN</td>\n",
       "      <td>3.0</td>\n",
       "      <td>positive</td>\n",
       "    </tr>\n",
       "    <tr>\n",
       "      <th>550786</th>\n",
       "      <td>1.0</td>\n",
       "      <td>05 26, 2016</td>\n",
       "      <td>Cute and fun. Can hardly put it down.</td>\n",
       "      <td>save money got christmas by january stopped working regardless much kinetic motion applied beware return policy</td>\n",
       "      <td>Look elsewhere.</td>\n",
       "      <td>NaN</td>\n",
       "      <td>1.0</td>\n",
       "      <td>positive</td>\n",
       "    </tr>\n",
       "    <tr>\n",
       "      <th>738288</th>\n",
       "      <td>1.0</td>\n",
       "      <td>12 4, 2016</td>\n",
       "      <td>ijamlive</td>\n",
       "      <td>interesting keep hand warm still hard move finger material inside really thick doesnt let move finger much also let hand stay warm returning product</td>\n",
       "      <td>material inside thick enough to make your hands look ugly also definitely not warm.</td>\n",
       "      <td>3</td>\n",
       "      <td>3.0</td>\n",
       "      <td>positive</td>\n",
       "    </tr>\n",
       "    <tr>\n",
       "      <th>466650</th>\n",
       "      <td>1.0</td>\n",
       "      <td>09 13, 2015</td>\n",
       "      <td>Stephanie Taylor</td>\n",
       "      <td>expected shoulder cover best</td>\n",
       "      <td>don't.</td>\n",
       "      <td>NaN</td>\n",
       "      <td>3.0</td>\n",
       "      <td>positive</td>\n",
       "    </tr>\n",
       "    <tr>\n",
       "      <th>567288</th>\n",
       "      <td>1.0</td>\n",
       "      <td>02 3, 2015</td>\n",
       "      <td>trina</td>\n",
       "      <td>nice coat come small sleeve short</td>\n",
       "      <td>One Star</td>\n",
       "      <td>2</td>\n",
       "      <td>3.0</td>\n",
       "      <td>positive</td>\n",
       "    </tr>\n",
       "    <tr>\n",
       "      <th>837331</th>\n",
       "      <td>1.0</td>\n",
       "      <td>05 26, 2016</td>\n",
       "      <td>Meli</td>\n",
       "      <td>shirt super cute but run super small order size an extra large like u m i wear large ordered one size hoping best flow like snug i wanted work</td>\n",
       "      <td>Bummed</td>\n",
       "      <td>NaN</td>\n",
       "      <td>17.0</td>\n",
       "      <td>positive</td>\n",
       "    </tr>\n",
       "    <tr>\n",
       "      <th>678055</th>\n",
       "      <td>1.0</td>\n",
       "      <td>05 19, 2016</td>\n",
       "      <td>jk</td>\n",
       "      <td>i bought gift i getting around posting review this ridiculously small i bought xl think not even medium this useless i bought go back maybe i upda...</td>\n",
       "      <td>COMPLETELY MISMARKED SIZES. 2XL IS ACTUALLY A MEDIUM.</td>\n",
       "      <td>NaN</td>\n",
       "      <td>2.0</td>\n",
       "      <td>positive</td>\n",
       "    </tr>\n",
       "    <tr>\n",
       "      <th>129579</th>\n",
       "      <td>1.0</td>\n",
       "      <td>12 28, 2015</td>\n",
       "      <td>Nicola</td>\n",
       "      <td>enormous i know supposed baggy material rather flimsy small fit xl daughter</td>\n",
       "      <td>ENORMOUS. I know it's supposed to be baggy but ...</td>\n",
       "      <td>NaN</td>\n",
       "      <td>1.0</td>\n",
       "      <td>positive</td>\n",
       "    </tr>\n",
       "    <tr>\n",
       "      <th>529691</th>\n",
       "      <td>1.0</td>\n",
       "      <td>06 30, 2015</td>\n",
       "      <td>Miranda</td>\n",
       "      <td>thin look nice ha sitting closet since arrived i worn</td>\n",
       "      <td>Thin</td>\n",
       "      <td>NaN</td>\n",
       "      <td>4.0</td>\n",
       "      <td>positive</td>\n",
       "    </tr>\n",
       "  </tbody>\n",
       "</table>\n",
       "</div>"
      ],
      "text/plain": [
       "        rating   reviewTime                           reviewerName  \\\n",
       "445247     1.0  03 13, 2015                                  Jorge   \n",
       "329401     1.0  01 18, 2016                             Kelly King   \n",
       "550786     1.0  05 26, 2016  Cute and fun. Can hardly put it down.   \n",
       "738288     1.0   12 4, 2016                               ijamlive   \n",
       "466650     1.0  09 13, 2015                       Stephanie Taylor   \n",
       "567288     1.0   02 3, 2015                                  trina   \n",
       "837331     1.0  05 26, 2016                                   Meli   \n",
       "678055     1.0  05 19, 2016                                     jk   \n",
       "129579     1.0  12 28, 2015                                 Nicola   \n",
       "529691     1.0  06 30, 2015                                Miranda   \n",
       "\n",
       "                                                                                                                                                       review  \\\n",
       "445247                                                                                         the quality poor look nice picture look cheap material whe see   \n",
       "329401                                                                                                                            it nice two small i need xl   \n",
       "550786                                        save money got christmas by january stopped working regardless much kinetic motion applied beware return policy   \n",
       "738288   interesting keep hand warm still hard move finger material inside really thick doesnt let move finger much also let hand stay warm returning product   \n",
       "466650                                                                                                                           expected shoulder cover best   \n",
       "567288                                                                                                                      nice coat come small sleeve short   \n",
       "837331         shirt super cute but run super small order size an extra large like u m i wear large ordered one size hoping best flow like snug i wanted work   \n",
       "678055  i bought gift i getting around posting review this ridiculously small i bought xl think not even medium this useless i bought go back maybe i upda...   \n",
       "129579                                                                            enormous i know supposed baggy material rather flimsy small fit xl daughter   \n",
       "529691                                                                                                  thin look nice ha sitting closet since arrived i worn   \n",
       "\n",
       "                                                                                    summary  \\\n",
       "445247                                                                             One Star   \n",
       "329401                                                                             One Star   \n",
       "550786                                                                      Look elsewhere.   \n",
       "738288  material inside thick enough to make your hands look ugly also definitely not warm.   \n",
       "466650                                                                               don't.   \n",
       "567288                                                                             One Star   \n",
       "837331                                                                               Bummed   \n",
       "678055                                COMPLETELY MISMARKED SIZES. 2XL IS ACTUALLY A MEDIUM.   \n",
       "129579                                   ENORMOUS. I know it's supposed to be baggy but ...   \n",
       "529691                                                                                 Thin   \n",
       "\n",
       "       vote  sentiment_score sentiment_category  \n",
       "445247  NaN              3.0           positive  \n",
       "329401  NaN              3.0           positive  \n",
       "550786  NaN              1.0           positive  \n",
       "738288    3              3.0           positive  \n",
       "466650  NaN              3.0           positive  \n",
       "567288    2              3.0           positive  \n",
       "837331  NaN             17.0           positive  \n",
       "678055  NaN              2.0           positive  \n",
       "129579  NaN              1.0           positive  \n",
       "529691  NaN              4.0           positive  "
      ]
     },
     "execution_count": 29,
     "metadata": {},
     "output_type": "execute_result"
    }
   ],
   "source": [
    "# Products that have low star ratings but positive sentiment\n",
    "df[(df['rating'] == 1) & (df['sentiment_score'] > 0)].sample(10)"
   ]
  },
  {
   "cell_type": "code",
   "execution_count": 30,
   "metadata": {},
   "outputs": [],
   "source": [
    "# Save pandas dataframe as pickle object\n",
    "import pickle\n",
    "with open(\"data/amazon_fashion_reviews.pkl\", 'wb') as f:\n",
    "    pickle.dump(df, f)"
   ]
  },
  {
   "cell_type": "markdown",
   "metadata": {},
   "source": [
    "### Predict Product Recommendation\n",
    "\n",
    "- Use logistic regression to Predict Product Recommendations based on the text reviews\n",
    "- Products with rating 4 and above will be classified as recommended and less than 4 as not recommended"
   ]
  },
  {
   "cell_type": "code",
   "execution_count": 31,
   "metadata": {},
   "outputs": [],
   "source": [
    "# helper function to plot top positive and negative coefficients\n",
    "\n",
    "def visualize_coefficients(coefficients, feature_names, n_top_features=25):\n",
    "    \"\"\"Visualize coefficients of a linear model.\n",
    "    Parameters\n",
    "    ----------\n",
    "    coefficients : nd-array, shape (n_features,)\n",
    "        Model coefficients.\n",
    "    feature_names : list or nd-array of strings, shape (n_features,)\n",
    "        Feature names for labeling the coefficients.\n",
    "    n_top_features : int, default=25\n",
    "        How many features to show. The function will show the largest (most\n",
    "        positive) and smallest (most negative)  n_top_features coefficients,\n",
    "        for a total of 2 * n_top_features coefficients.\n",
    "    \"\"\"\n",
    "    coefficients = coefficients.squeeze()\n",
    "    if coefficients.ndim > 1:\n",
    "        # this is not a row or column vector\n",
    "        raise ValueError(\"coeffients must be 1d array or column vector, got\"\n",
    "                         \" shape {}\".format(coefficients.shape))\n",
    "    coefficients = coefficients.ravel()\n",
    "\n",
    "    if len(coefficients) != len(feature_names):\n",
    "        raise ValueError(\"Number of coefficients {} doesn't match number of\"\n",
    "                         \"feature names {}.\".format(len(coefficients),\n",
    "                                                    len(feature_names)))\n",
    "    # get coefficients with large absolute values\n",
    "    coef = coefficients.ravel()\n",
    "    positive_coefficients = np.argsort(coef)[-n_top_features:]\n",
    "    negative_coefficients = np.argsort(coef)[:n_top_features]\n",
    "    interesting_coefficients = np.hstack([negative_coefficients,\n",
    "                                          positive_coefficients])\n",
    "    # plot them\n",
    "    plt.figure(figsize=(15, 5))\n",
    "    colors = ['#ff2020' if c < 0 else '#0000aa'\n",
    "              for c in coef[interesting_coefficients]]\n",
    "    plt.bar(np.arange(2 * n_top_features), coef[interesting_coefficients],\n",
    "            color=colors)\n",
    "    feature_names = np.array(feature_names)\n",
    "    plt.subplots_adjust(bottom=0.3)\n",
    "    plt.xticks(np.arange(1, 1 + 2 * n_top_features),\n",
    "               feature_names[interesting_coefficients], rotation=60,\n",
    "               ha=\"right\")\n",
    "    plt.ylabel(\"Coefficient magnitude\")\n",
    "    plt.xlabel(\"Feature\")"
   ]
  },
  {
   "cell_type": "code",
   "execution_count": 32,
   "metadata": {},
   "outputs": [],
   "source": [
    "# Create a new column\n",
    "# If rating is 4 and above, the product is recommended, it is not recommended if it is 3 and below\n",
    "df['recommend'] = [1 if x >= 4 else 0 for x in df['rating']]"
   ]
  },
  {
   "cell_type": "code",
   "execution_count": 33,
   "metadata": {},
   "outputs": [
    {
     "data": {
      "text/html": [
       "<div>\n",
       "<style scoped>\n",
       "    .dataframe tbody tr th:only-of-type {\n",
       "        vertical-align: middle;\n",
       "    }\n",
       "\n",
       "    .dataframe tbody tr th {\n",
       "        vertical-align: top;\n",
       "    }\n",
       "\n",
       "    .dataframe thead th {\n",
       "        text-align: right;\n",
       "    }\n",
       "</style>\n",
       "<table border=\"1\" class=\"dataframe\">\n",
       "  <thead>\n",
       "    <tr style=\"text-align: right;\">\n",
       "      <th></th>\n",
       "      <th>rating</th>\n",
       "      <th>reviewTime</th>\n",
       "      <th>reviewerName</th>\n",
       "      <th>review</th>\n",
       "      <th>summary</th>\n",
       "      <th>vote</th>\n",
       "      <th>sentiment_score</th>\n",
       "      <th>sentiment_category</th>\n",
       "      <th>recommend</th>\n",
       "    </tr>\n",
       "  </thead>\n",
       "  <tbody>\n",
       "    <tr>\n",
       "      <th>0</th>\n",
       "      <td>5.0</td>\n",
       "      <td>10 20, 2014</td>\n",
       "      <td>Tracy</td>\n",
       "      <td>exactly i needed</td>\n",
       "      <td>perfect replacements!!</td>\n",
       "      <td>NaN</td>\n",
       "      <td>0.0</td>\n",
       "      <td>neutral</td>\n",
       "      <td>1</td>\n",
       "    </tr>\n",
       "    <tr>\n",
       "      <th>1</th>\n",
       "      <td>2.0</td>\n",
       "      <td>09 28, 2014</td>\n",
       "      <td>Sonja Lau</td>\n",
       "      <td>i agree review opening small i almost bent hook expensive earring trying get higher end seen would buy price sending back</td>\n",
       "      <td>I agree with the other review, the opening is ...</td>\n",
       "      <td>3</td>\n",
       "      <td>1.0</td>\n",
       "      <td>positive</td>\n",
       "      <td>0</td>\n",
       "    </tr>\n",
       "    <tr>\n",
       "      <th>2</th>\n",
       "      <td>4.0</td>\n",
       "      <td>08 25, 2014</td>\n",
       "      <td>Kathleen</td>\n",
       "      <td>love i going order another pack keep work someone including always losing back earring i understand fish hook earring just wish tiny bit longer</td>\n",
       "      <td>My New 'Friends' !!</td>\n",
       "      <td>NaN</td>\n",
       "      <td>1.0</td>\n",
       "      <td>positive</td>\n",
       "      <td>1</td>\n",
       "    </tr>\n",
       "    <tr>\n",
       "      <th>3</th>\n",
       "      <td>2.0</td>\n",
       "      <td>08 24, 2014</td>\n",
       "      <td>Jodi Stoner</td>\n",
       "      <td>tiny opening</td>\n",
       "      <td>Two Stars</td>\n",
       "      <td>NaN</td>\n",
       "      <td>0.0</td>\n",
       "      <td>neutral</td>\n",
       "      <td>0</td>\n",
       "    </tr>\n",
       "    <tr>\n",
       "      <th>4</th>\n",
       "      <td>3.0</td>\n",
       "      <td>07 27, 2014</td>\n",
       "      <td>Alexander D.</td>\n",
       "      <td>okay</td>\n",
       "      <td>Three Stars</td>\n",
       "      <td>NaN</td>\n",
       "      <td>0.0</td>\n",
       "      <td>neutral</td>\n",
       "      <td>0</td>\n",
       "    </tr>\n",
       "  </tbody>\n",
       "</table>\n",
       "</div>"
      ],
      "text/plain": [
       "   rating   reviewTime  reviewerName  \\\n",
       "0     5.0  10 20, 2014         Tracy   \n",
       "1     2.0  09 28, 2014     Sonja Lau   \n",
       "2     4.0  08 25, 2014      Kathleen   \n",
       "3     2.0  08 24, 2014   Jodi Stoner   \n",
       "4     3.0  07 27, 2014  Alexander D.   \n",
       "\n",
       "                                                                                                                                            review  \\\n",
       "0                                                                                                                                 exactly i needed   \n",
       "1                        i agree review opening small i almost bent hook expensive earring trying get higher end seen would buy price sending back   \n",
       "2  love i going order another pack keep work someone including always losing back earring i understand fish hook earring just wish tiny bit longer   \n",
       "3                                                                                                                                     tiny opening   \n",
       "4                                                                                                                                             okay   \n",
       "\n",
       "                                             summary vote  sentiment_score  \\\n",
       "0                             perfect replacements!!  NaN              0.0   \n",
       "1  I agree with the other review, the opening is ...    3              1.0   \n",
       "2                                My New 'Friends' !!  NaN              1.0   \n",
       "3                                          Two Stars  NaN              0.0   \n",
       "4                                        Three Stars  NaN              0.0   \n",
       "\n",
       "  sentiment_category  recommend  \n",
       "0            neutral          1  \n",
       "1           positive          0  \n",
       "2           positive          1  \n",
       "3            neutral          0  \n",
       "4            neutral          0  "
      ]
     },
     "execution_count": 33,
     "metadata": {},
     "output_type": "execute_result"
    }
   ],
   "source": [
    "df.head()"
   ]
  },
  {
   "cell_type": "code",
   "execution_count": 34,
   "metadata": {},
   "outputs": [
    {
     "name": "stdout",
     "output_type": "stream",
     "text": [
      "X:\n",
      "<883636x10500 sparse matrix of type '<class 'numpy.int64'>'\n",
      "\twith 11690190 stored elements in Compressed Sparse Row format>\n"
     ]
    }
   ],
   "source": [
    "# Vectorize text review\n",
    "from sklearn.feature_extraction.text import CountVectorizer\n",
    "vect = CountVectorizer(min_df = 20).fit(df['review'])\n",
    "X = vect.transform(df['review'])\n",
    "\n",
    "print(\"X:\\n{}\".format(repr(X)))\n",
    "\n",
    "y = df['recommend']"
   ]
  },
  {
   "cell_type": "code",
   "execution_count": 35,
   "metadata": {},
   "outputs": [
    {
     "name": "stdout",
     "output_type": "stream",
     "text": [
      "CountVectorizer(analyzer='word', binary=False, decode_error='strict',\n",
      "                dtype=<class 'numpy.int64'>, encoding='utf-8', input='content',\n",
      "                lowercase=True, max_df=1.0, max_features=None, min_df=20,\n",
      "                ngram_range=(1, 1), preprocessor=None, stop_words=None,\n",
      "                strip_accents=None, token_pattern='(?u)\\\\b\\\\w\\\\w+\\\\b',\n",
      "                tokenizer=None, vocabulary=None)\n"
     ]
    }
   ],
   "source": [
    "print(vect)"
   ]
  },
  {
   "cell_type": "code",
   "execution_count": 36,
   "metadata": {},
   "outputs": [
    {
     "name": "stdout",
     "output_type": "stream",
     "text": [
      "First 50 features:\n",
      "['aa', 'aaa', 'aaaa', 'ab', 'abalone', 'abd', 'abdomen', 'abdominal', 'ability', 'abit']\n",
      "Features 20 to 30:\n",
      "['absolutley', 'absolutly', 'absorb', 'absorbant', 'absorbent', 'absorbing', 'absorbs', 'absorption', 'abstract', 'absurd']\n",
      "Every 50th feature:\n",
      "['aa', 'accessorizing', 'adapt', 'advertisement', 'ahh', 'alleviated', 'amethyst', 'antenna', 'appraisal', 'around', 'associate', 'attraction', 'aweful', 'balaclava', 'base', 'beast', 'belief', 'bezel', 'bizarre', 'blood', 'bonnet', 'bound', 'break', 'broader', 'bulb', 'busted', 'cami', 'career', 'catsuit', 'challenged', 'checkout', 'chintzy', 'circumference', 'clevage', 'clutter', 'coloured', 'company', 'compressing', 'connector', 'contoured', 'corner', 'coupon', 'crawler', 'crocheted', 'cumbersome', 'czs', 'date', 'deck', 'del', 'describe', 'development', 'dimension', 'discoloration', 'dissatisfaction', 'documentation', 'downpour', 'drift', 'dupe', 'easy', 'elaborate', 'embossed', 'engraving', 'escape', 'evil', 'exist', 'extender', 'fading', 'fast', 'fella', 'final', 'flab', 'flipping', 'folded', 'format', 'freedom', 'fumbling', 'gaped', 'generous', 'giving', 'golf', 'grand', 'gripping', 'gymnastics', 'hanging', 'hawaiian', 'heeled', 'highlight', 'homeless', 'hotter', 'hurting', 'imagination', 'inadequate', 'indicative', 'inquiry', 'intend', 'iphone', 'jacked', 'jimmy', 'junky', 'kill', 'knuckle', 'lapis', 'lead', 'lengthwise', 'lightest', 'literal', 'looked', 'loveee', 'lying', 'malleable', 'married', 'meal', 'meow', 'mighty', 'misleading', 'modesty', 'motion', 'music', 'nb', 'nevertheless', 'nonsense', 'number', 'oddly', 'ons', 'oregon', 'outgrows', 'overtime', 'pajamajeans', 'pas', 'peace', 'perception', 'pf', 'pillowcase', 'planing', 'plyer', 'poolside', 'pouch', 'pregnant', 'pricy', 'prolong', 'provided', 'purchasing', 'quit', 'rare', 'realistically', 'recommed', 'reflection', 'reliability', 'reorder', 'resemblance', 'restrict', 'reviewed', 'risky', 'rope', 'rush', 'samsung', 'scanner', 'screened', 'securing', 'separating', 'shading', 'shielded', 'shortening', 'sign', 'sixteen', 'sledding', 'slow', 'smoothing', 'soaking', 'sometime', 'spaced', 'spending', 'spring', 'stain', 'steal', 'stocked', 'street', 'study', 'successful', 'sunscreen', 'survey', 'swingy', 'talking', 'te', 'tennessee', 'thee', 'thomas', 'tickled', 'tit', 'toothbrush', 'trade', 'treating', 'trusting', 'tween', 'unattractive', 'underwire', 'unlimited', 'unusually', 'useful', 'vb', 'vibe', 'volunteer', 'ward', 'wayy', 'welcomed', 'whose', 'wiping', 'word', 'wrist', 'yhe']\n"
     ]
    }
   ],
   "source": [
    "feature_names = vect.get_feature_names()\n",
    "print(\"First 50 features:\\n{}\".format(feature_names[:10]))\n",
    "print(\"Features 20 to 30:\\n{}\".format(feature_names[20:30]))\n",
    "print(\"Every 50th feature:\\n{}\".format(feature_names[::50]))"
   ]
  },
  {
   "cell_type": "code",
   "execution_count": 37,
   "metadata": {},
   "outputs": [
    {
     "name": "stdout",
     "output_type": "stream",
     "text": [
      "(662727, 10500)\n",
      "(662727,)\n"
     ]
    }
   ],
   "source": [
    "# Set up training and test data\n",
    "from sklearn.model_selection import train_test_split\n",
    "\n",
    "X_train, X_test, y_train, y_test = train_test_split(X, y, random_state=123)\n",
    "\n",
    "print(X_train.shape)\n",
    "print(y_train.shape)"
   ]
  },
  {
   "cell_type": "code",
   "execution_count": 38,
   "metadata": {},
   "outputs": [
    {
     "name": "stdout",
     "output_type": "stream",
     "text": [
      "Mean cross-validation accuracy: 0.88\n"
     ]
    }
   ],
   "source": [
    "from sklearn.model_selection import cross_val_score\n",
    "from sklearn.linear_model import LogisticRegression\n",
    "from sklearn.model_selection import GridSearchCV\n",
    "import numpy as np\n",
    "\n",
    "scores = cross_val_score(LogisticRegression(max_iter = 1000), X_train, y_train, cv=5)\n",
    "print(\"Mean cross-validation accuracy: {:.2f}\".format(np.mean(scores)))"
   ]
  },
  {
   "cell_type": "code",
   "execution_count": 39,
   "metadata": {},
   "outputs": [
    {
     "name": "stderr",
     "output_type": "stream",
     "text": [
      "/Users/geraldlee/opt/anaconda3/lib/python3.7/site-packages/sklearn/linear_model/_logistic.py:940: ConvergenceWarning: lbfgs failed to converge (status=1):\n",
      "STOP: TOTAL NO. of ITERATIONS REACHED LIMIT.\n",
      "\n",
      "Increase the number of iterations (max_iter) or scale the data as shown in:\n",
      "    https://scikit-learn.org/stable/modules/preprocessing.html\n",
      "Please also refer to the documentation for alternative solver options:\n",
      "    https://scikit-learn.org/stable/modules/linear_model.html#logistic-regression\n",
      "  extra_warning_msg=_LOGISTIC_SOLVER_CONVERGENCE_MSG)\n",
      "/Users/geraldlee/opt/anaconda3/lib/python3.7/site-packages/sklearn/linear_model/_logistic.py:940: ConvergenceWarning: lbfgs failed to converge (status=1):\n",
      "STOP: TOTAL NO. of ITERATIONS REACHED LIMIT.\n",
      "\n",
      "Increase the number of iterations (max_iter) or scale the data as shown in:\n",
      "    https://scikit-learn.org/stable/modules/preprocessing.html\n",
      "Please also refer to the documentation for alternative solver options:\n",
      "    https://scikit-learn.org/stable/modules/linear_model.html#logistic-regression\n",
      "  extra_warning_msg=_LOGISTIC_SOLVER_CONVERGENCE_MSG)\n",
      "/Users/geraldlee/opt/anaconda3/lib/python3.7/site-packages/sklearn/linear_model/_logistic.py:940: ConvergenceWarning: lbfgs failed to converge (status=1):\n",
      "STOP: TOTAL NO. of ITERATIONS REACHED LIMIT.\n",
      "\n",
      "Increase the number of iterations (max_iter) or scale the data as shown in:\n",
      "    https://scikit-learn.org/stable/modules/preprocessing.html\n",
      "Please also refer to the documentation for alternative solver options:\n",
      "    https://scikit-learn.org/stable/modules/linear_model.html#logistic-regression\n",
      "  extra_warning_msg=_LOGISTIC_SOLVER_CONVERGENCE_MSG)\n",
      "/Users/geraldlee/opt/anaconda3/lib/python3.7/site-packages/sklearn/linear_model/_logistic.py:940: ConvergenceWarning: lbfgs failed to converge (status=1):\n",
      "STOP: TOTAL NO. of ITERATIONS REACHED LIMIT.\n",
      "\n",
      "Increase the number of iterations (max_iter) or scale the data as shown in:\n",
      "    https://scikit-learn.org/stable/modules/preprocessing.html\n",
      "Please also refer to the documentation for alternative solver options:\n",
      "    https://scikit-learn.org/stable/modules/linear_model.html#logistic-regression\n",
      "  extra_warning_msg=_LOGISTIC_SOLVER_CONVERGENCE_MSG)\n"
     ]
    },
    {
     "name": "stdout",
     "output_type": "stream",
     "text": [
      "Best cross-validation score: 0.88\n",
      "Best parameters:  {'C': 1}\n",
      "Test score: 0.88\n"
     ]
    }
   ],
   "source": [
    "param_grid = {'C': [0.001, 0.01, 0.1, 1, 10]}\n",
    "grid = GridSearchCV(LogisticRegression(max_iter = 1000), param_grid, cv=5)\n",
    "grid.fit(X_train, y_train)\n",
    "print(\"Best cross-validation score: {:.2f}\".format(grid.best_score_))\n",
    "print(\"Best parameters: \", grid.best_params_)\n",
    "print(\"Test score: {:.2f}\".format(grid.score(X_test, y_test)))"
   ]
  },
  {
   "cell_type": "code",
   "execution_count": 41,
   "metadata": {},
   "outputs": [
    {
     "name": "stdout",
     "output_type": "stream",
     "text": [
      "              precision    recall  f1-score   support\n",
      "\n",
      "           0       0.84      0.75      0.79     66986\n",
      "           1       0.90      0.94      0.92    153923\n",
      "\n",
      "    accuracy                           0.88    220909\n",
      "   macro avg       0.87      0.84      0.85    220909\n",
      "weighted avg       0.88      0.88      0.88    220909\n",
      "\n",
      "Accuracy score: 0.880\n"
     ]
    }
   ],
   "source": [
    "# Test model and print results\n",
    "from sklearn.metrics import classification_report\n",
    "\n",
    "logreg = LogisticRegression(C=1, max_iter = 1000).fit(X_train,y_train)\n",
    "y_pred = logreg.predict(X_test) # y_pred includes your predictions\n",
    "\n",
    "print(classification_report(y_test, y_pred)) # precision recall and f1\n",
    "print(\"Accuracy score: {:.3f}\".format(logreg.score(X_test, y_test))) #accuracy"
   ]
  },
  {
   "cell_type": "code",
   "execution_count": 42,
   "metadata": {},
   "outputs": [
    {
     "data": {
      "image/png": "[encoded data removed]",
      "text/plain": [
       "<Figure size 1080x360 with 1 Axes>"
      ]
     },
     "metadata": {},
     "output_type": "display_data"
    }
   ],
   "source": [
    "# Inspect model by visualizing the coefficients\n",
    "coefs = LogisticRegression(C=1, max_iter = 1000).fit(X_train,y_train).coef_\n",
    "\n",
    "visualize_coefficients(coefs, feature_names, n_top_features=25)"
   ]
  },
  {
   "cell_type": "markdown",
   "metadata": {},
   "source": [
    "### Topic Modelling\n",
    "\n",
    "- Use LDA (Unsupervised learning method) to break reviews into different topics"
   ]
  },
  {
   "cell_type": "code",
   "execution_count": 64,
   "metadata": {},
   "outputs": [],
   "source": [
    "# LDA\n",
    "from sklearn.decomposition import LatentDirichletAllocation\n",
    "\n",
    "vect = CountVectorizer(max_features=10000, max_df=.50)\n",
    "X = vect.fit_transform(df['review'].sample(1000))\n",
    "\n",
    "lda = LatentDirichletAllocation(n_components=10, learning_method=\"batch\", max_iter=25, random_state=1234)\n",
    "\n",
    "document_topics = lda.fit_transform(X)"
   ]
  },
  {
   "cell_type": "code",
   "execution_count": 65,
   "metadata": {},
   "outputs": [
    {
     "data": {
      "text/plain": [
       "(10, 2745)"
      ]
     },
     "execution_count": 65,
     "metadata": {},
     "output_type": "execute_result"
    }
   ],
   "source": [
    "lda.components_.shape"
   ]
  },
  {
   "cell_type": "code",
   "execution_count": 66,
   "metadata": {},
   "outputs": [
    {
     "name": "stdout",
     "output_type": "stream",
     "text": [
      "topic 0       topic 1       topic 2       topic 3       topic 4       \n",
      "--------      --------      --------      --------      --------      \n",
      "it            size          fit           nice          love          \n",
      "this          like          the           very          great         \n",
      "the           it            perfect       wear          the           \n",
      "dress         the           dress         cute          my            \n",
      "little        nice          it            gift          watch         \n",
      "would         small         little        so            size          \n",
      "size          shirt         would         would         good          \n",
      "well          ordered       well          comfortable   quality       \n",
      "product       love          cute          beautiful     well          \n",
      "look          ring          expected      this          made          \n",
      "\n",
      "\n",
      "topic 5       topic 6       topic 7       topic 8       topic 9       \n",
      "--------      --------      --------      --------      --------      \n",
      "good          fit           love          great         small         \n",
      "the           like          cheap         fit           size          \n",
      "material      it            material      size          the           \n",
      "like          large         it            love          love          \n",
      "quality       wear          dress         it            ordered       \n",
      "one           size          look          product       color         \n",
      "product       get           buy           one           fit           \n",
      "look          one           wallet        the           dress         \n",
      "use           small         great         like          too           \n",
      "love          little        top           wear          good          \n",
      "\n",
      "\n"
     ]
    }
   ],
   "source": [
    "import mglearn\n",
    "# Invert rows to make sorting descending\n",
    "sorting = np.argsort(lda.components_, axis=1)[:, ::-1]\n",
    "\n",
    "# Get the feature names from the vectorizer\n",
    "feature_names = np.array(vect.get_feature_names())\n",
    "\n",
    "# Print out the 10 topics:\n",
    "mglearn.tools.print_topics(topics=range(10), feature_names=feature_names,\n",
    "                           sorting=sorting, topics_per_chunk=5, n_words=10)"
   ]
  }
 ],
 "metadata": {
  "kernelspec": {
   "display_name": "Python 3",
   "language": "python",
   "name": "python3"
  },
  "language_info": {
   "codemirror_mode": {
    "name": "ipython",
    "version": 3
   },
   "file_extension": ".py",
   "mimetype": "text/x-python",
   "name": "python",
   "nbconvert_exporter": "python",
   "pygments_lexer": "ipython3",
   "version": "3.7.6"
  }
 },
 "nbformat": 4,
 "nbformat_minor": 4
}
